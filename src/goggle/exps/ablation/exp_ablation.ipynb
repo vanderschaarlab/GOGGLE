{
 "cells": [
  {
   "cell_type": "code",
   "execution_count": 11,
   "id": "afa6eef8",
   "metadata": {},
   "outputs": [],
   "source": [
    "import torch\n",
    "import random\n",
    "import sys\n",
    "sys.path.append('../.')\n",
    "sys.path.append('../../.')\n",
    "import pandas as pd\n",
    "import matplotlib.pyplot as plt\n",
    "import numpy as np\n",
    "\n",
    "import networkx as nx\n",
    "from pgmpy.estimators import PC"
   ]
  },
  {
   "cell_type": "markdown",
   "id": "a63a83f1",
   "metadata": {},
   "source": [
    "**Load data**"
   ]
  },
  {
   "cell_type": "code",
   "execution_count": 12,
   "id": "6acde865",
   "metadata": {
    "scrolled": true
   },
   "outputs": [
    {
     "data": {
      "text/html": [
       "<div>\n",
       "<style scoped>\n",
       "    .dataframe tbody tr th:only-of-type {\n",
       "        vertical-align: middle;\n",
       "    }\n",
       "\n",
       "    .dataframe tbody tr th {\n",
       "        vertical-align: top;\n",
       "    }\n",
       "\n",
       "    .dataframe thead th {\n",
       "        text-align: right;\n",
       "    }\n",
       "</style>\n",
       "<table border=\"1\" class=\"dataframe\">\n",
       "  <thead>\n",
       "    <tr style=\"text-align: right;\">\n",
       "      <th></th>\n",
       "      <th>Attribute 1</th>\n",
       "      <th>Attribute 2</th>\n",
       "      <th>Attribute 3</th>\n",
       "      <th>Attribute 4</th>\n",
       "      <th>Attribute 5</th>\n",
       "      <th>Attribute 6</th>\n",
       "      <th>Attribute 7</th>\n",
       "      <th>Attribute 8</th>\n",
       "      <th>Attribute 9</th>\n",
       "      <th>Attribute 10</th>\n",
       "      <th>...</th>\n",
       "      <th>Attribute 16</th>\n",
       "      <th>Attribute 17</th>\n",
       "      <th>Attribute 18</th>\n",
       "      <th>Attribute 19</th>\n",
       "      <th>Attribute 20</th>\n",
       "      <th>Attribute 21</th>\n",
       "      <th>Attribute 22</th>\n",
       "      <th>Attribute 23</th>\n",
       "      <th>Attribute 24</th>\n",
       "      <th>target</th>\n",
       "    </tr>\n",
       "  </thead>\n",
       "  <tbody>\n",
       "    <tr>\n",
       "      <th>0</th>\n",
       "      <td>-1.254566</td>\n",
       "      <td>-1.236478</td>\n",
       "      <td>1.344014</td>\n",
       "      <td>-0.733432</td>\n",
       "      <td>1.833169</td>\n",
       "      <td>1.338078</td>\n",
       "      <td>0.449326</td>\n",
       "      <td>1.046987</td>\n",
       "      <td>-1.293723</td>\n",
       "      <td>2.766456</td>\n",
       "      <td>...</td>\n",
       "      <td>-0.552705</td>\n",
       "      <td>-0.338862</td>\n",
       "      <td>0.320212</td>\n",
       "      <td>-0.206768</td>\n",
       "      <td>-0.466933</td>\n",
       "      <td>0.634448</td>\n",
       "      <td>-0.149983</td>\n",
       "      <td>-0.5</td>\n",
       "      <td>0.766356</td>\n",
       "      <td>0.0</td>\n",
       "    </tr>\n",
       "    <tr>\n",
       "      <th>1</th>\n",
       "      <td>-0.459026</td>\n",
       "      <td>2.248194</td>\n",
       "      <td>-0.503428</td>\n",
       "      <td>0.966377</td>\n",
       "      <td>-0.699707</td>\n",
       "      <td>-0.317959</td>\n",
       "      <td>-0.963650</td>\n",
       "      <td>-0.765977</td>\n",
       "      <td>-1.293723</td>\n",
       "      <td>-1.191404</td>\n",
       "      <td>...</td>\n",
       "      <td>-0.552705</td>\n",
       "      <td>-0.338862</td>\n",
       "      <td>0.320212</td>\n",
       "      <td>-0.206768</td>\n",
       "      <td>-0.466933</td>\n",
       "      <td>0.634448</td>\n",
       "      <td>-0.149983</td>\n",
       "      <td>-0.5</td>\n",
       "      <td>0.766356</td>\n",
       "      <td>1.0</td>\n",
       "    </tr>\n",
       "    <tr>\n",
       "      <th>2</th>\n",
       "      <td>1.132053</td>\n",
       "      <td>-0.738668</td>\n",
       "      <td>1.344014</td>\n",
       "      <td>-0.414718</td>\n",
       "      <td>-0.699707</td>\n",
       "      <td>0.510060</td>\n",
       "      <td>0.449326</td>\n",
       "      <td>0.140505</td>\n",
       "      <td>-1.293723</td>\n",
       "      <td>1.183312</td>\n",
       "      <td>...</td>\n",
       "      <td>-0.552705</td>\n",
       "      <td>-0.338862</td>\n",
       "      <td>0.320212</td>\n",
       "      <td>-0.206768</td>\n",
       "      <td>-0.466933</td>\n",
       "      <td>0.634448</td>\n",
       "      <td>-0.149983</td>\n",
       "      <td>2.0</td>\n",
       "      <td>-1.304877</td>\n",
       "      <td>0.0</td>\n",
       "    </tr>\n",
       "    <tr>\n",
       "      <th>3</th>\n",
       "      <td>-1.254566</td>\n",
       "      <td>1.750384</td>\n",
       "      <td>-0.503428</td>\n",
       "      <td>1.639217</td>\n",
       "      <td>-0.699707</td>\n",
       "      <td>0.510060</td>\n",
       "      <td>0.449326</td>\n",
       "      <td>1.046987</td>\n",
       "      <td>-0.341055</td>\n",
       "      <td>0.831502</td>\n",
       "      <td>...</td>\n",
       "      <td>-0.552705</td>\n",
       "      <td>-0.338862</td>\n",
       "      <td>-3.122929</td>\n",
       "      <td>-0.206768</td>\n",
       "      <td>-0.466933</td>\n",
       "      <td>-1.576173</td>\n",
       "      <td>-0.149983</td>\n",
       "      <td>-0.5</td>\n",
       "      <td>0.766356</td>\n",
       "      <td>0.0</td>\n",
       "    </tr>\n",
       "    <tr>\n",
       "      <th>4</th>\n",
       "      <td>-1.254566</td>\n",
       "      <td>0.256953</td>\n",
       "      <td>0.420293</td>\n",
       "      <td>0.576837</td>\n",
       "      <td>-0.699707</td>\n",
       "      <td>-0.317959</td>\n",
       "      <td>0.449326</td>\n",
       "      <td>1.046987</td>\n",
       "      <td>1.564281</td>\n",
       "      <td>1.535122</td>\n",
       "      <td>...</td>\n",
       "      <td>1.809283</td>\n",
       "      <td>-0.338862</td>\n",
       "      <td>0.320212</td>\n",
       "      <td>-0.206768</td>\n",
       "      <td>-0.466933</td>\n",
       "      <td>-1.576173</td>\n",
       "      <td>-0.149983</td>\n",
       "      <td>-0.5</td>\n",
       "      <td>0.766356</td>\n",
       "      <td>1.0</td>\n",
       "    </tr>\n",
       "  </tbody>\n",
       "</table>\n",
       "<p>5 rows × 25 columns</p>\n",
       "</div>"
      ],
      "text/plain": [
       "   Attribute 1  Attribute 2  Attribute 3  Attribute 4  Attribute 5  \\\n",
       "0    -1.254566    -1.236478     1.344014    -0.733432     1.833169   \n",
       "1    -0.459026     2.248194    -0.503428     0.966377    -0.699707   \n",
       "2     1.132053    -0.738668     1.344014    -0.414718    -0.699707   \n",
       "3    -1.254566     1.750384    -0.503428     1.639217    -0.699707   \n",
       "4    -1.254566     0.256953     0.420293     0.576837    -0.699707   \n",
       "\n",
       "   Attribute 6  Attribute 7  Attribute 8  Attribute 9  Attribute 10  ...  \\\n",
       "0     1.338078     0.449326     1.046987    -1.293723      2.766456  ...   \n",
       "1    -0.317959    -0.963650    -0.765977    -1.293723     -1.191404  ...   \n",
       "2     0.510060     0.449326     0.140505    -1.293723      1.183312  ...   \n",
       "3     0.510060     0.449326     1.046987    -0.341055      0.831502  ...   \n",
       "4    -0.317959     0.449326     1.046987     1.564281      1.535122  ...   \n",
       "\n",
       "   Attribute 16  Attribute 17  Attribute 18  Attribute 19  Attribute 20  \\\n",
       "0     -0.552705     -0.338862      0.320212     -0.206768     -0.466933   \n",
       "1     -0.552705     -0.338862      0.320212     -0.206768     -0.466933   \n",
       "2     -0.552705     -0.338862      0.320212     -0.206768     -0.466933   \n",
       "3     -0.552705     -0.338862     -3.122929     -0.206768     -0.466933   \n",
       "4      1.809283     -0.338862      0.320212     -0.206768     -0.466933   \n",
       "\n",
       "   Attribute 21  Attribute 22  Attribute 23  Attribute 24  target  \n",
       "0      0.634448     -0.149983          -0.5      0.766356     0.0  \n",
       "1      0.634448     -0.149983          -0.5      0.766356     1.0  \n",
       "2      0.634448     -0.149983           2.0     -1.304877     0.0  \n",
       "3     -1.576173     -0.149983          -0.5      0.766356     0.0  \n",
       "4     -1.576173     -0.149983          -0.5      0.766356     1.0  \n",
       "\n",
       "[5 rows x 25 columns]"
      ]
     },
     "execution_count": 12,
     "metadata": {},
     "output_type": "execute_result"
    }
   ],
   "source": [
    "from sklearn.preprocessing import StandardScaler\n",
    "from sklearn.compose import ColumnTransformer\n",
    "\n",
    "dataset = 'credit'\n",
    "X = pd.read_csv('../data/german_credit_2.csv')\n",
    "target = X.pop('Creditability')\n",
    "X['target']=target - 1.0\n",
    "X = X.dropna(axis=0)\n",
    "ind = list(range(len(X.columns)))\n",
    "ind = [x for x in ind if x != X.columns.get_loc(\"target\")]\n",
    "col_list = X.columns[ind]\n",
    "\n",
    "ct = ColumnTransformer([('scaler', StandardScaler(), col_list)], remainder='passthrough')\n",
    "\n",
    "X_ = ct.fit_transform(X)\n",
    "X = pd.DataFrame(X_, index=X.index, columns=X.columns)\n",
    "\n",
    "X.head()"
   ]
  },
  {
   "cell_type": "markdown",
   "id": "427c65cd",
   "metadata": {},
   "source": [
    "**Specify ablation settings**"
   ]
  },
  {
   "cell_type": "code",
   "execution_count": 13,
   "id": "c59b8dfb",
   "metadata": {},
   "outputs": [],
   "source": [
    "def get_adj_mat(adj_type, X, n):\n",
    "    if adj_type == 'ER':\n",
    "        m = int(n**2*0.1) \n",
    "        G = nx.gnm_random_graph(n, m)\n",
    "        adj_mat = np.zeros((n, n))\n",
    "        for i in range(n):\n",
    "            for j in range(n):\n",
    "                if (i, j) in list(G.edges):\n",
    "                    adj_mat[i][j]=1\n",
    "    elif adj_type == 'COV':\n",
    "        adj_mat = abs(np.corrcoef(X.to_numpy().T))\n",
    "    elif adj_type == 'BN':\n",
    "        c = PC(X)\n",
    "        model = c.estimate(variant='parallel', max_cond_vars=3, ci_test='pearsonr')\n",
    "        adj_mat = np.zeros((n, n))\n",
    "        for i, col_name_i in enumerate(X.columns):\n",
    "            for j, col_name_j in enumerate(X.columns):\n",
    "                if (col_name_i, col_name_j) in model.edges():\n",
    "                    adj_mat[i][j] = 1\n",
    "    else:\n",
    "        adj_mat = np.ones((n, n))\n",
    "    \n",
    "    plt.figure(figsize=(4, 4))\n",
    "    im = plt.imshow(adj_mat, cmap='inferno', interpolation='nearest', vmin=0, vmax=1.0)\n",
    "    plt.colorbar(im, fraction=0.046, pad=0.04)\n",
    "    plt.title('Prior graph')\n",
    "    plt.axis('off')\n",
    "    plt.show()\n",
    "    return adj_mat"
   ]
  },
  {
   "cell_type": "markdown",
   "id": "613dd043",
   "metadata": {},
   "source": [
    "**Fit model - compare ablation settings**"
   ]
  },
  {
   "cell_type": "code",
   "execution_count": 14,
   "id": "46651a63",
   "metadata": {},
   "outputs": [],
   "source": [
    "from sklearn.model_selection import train_test_split\n",
    "from GoggleModel import GoggleModel"
   ]
  },
  {
   "cell_type": "code",
   "execution_count": 16,
   "id": "c129c20e",
   "metadata": {
    "scrolled": true
   },
   "outputs": [
    {
     "name": "stdout",
     "output_type": "stream",
     "text": [
      "Considering ablation setting: ER\n"
     ]
    },
    {
     "data": {
      "image/png": "[encoded data removed]",
      "text/plain": [
       "<Figure size 400x400 with 2 Axes>"
      ]
     },
     "metadata": {},
     "output_type": "display_data"
    },
    {
     "name": "stdout",
     "output_type": "stream",
     "text": [
      "[Epoch 100/1000, patience 14] train: 23.566, val: 23.238\n",
      "[Epoch 200/1000, patience 24] train: 23.561, val: 23.239\n",
      "Training terminated after 225 epochs\n",
      "{'delta_precision_alpha_OC': 0.0, 'delta_coverage_beta_OC': 0.0, 'authenticity_OC': 1.0}\n",
      "Quality: 0.333\n",
      "Detection: 0.834\n",
      "Performance on real: 0.624, on synth: 0.478\n",
      "Considering ablation setting: COV\n"
     ]
    },
    {
     "data": {
      "image/png": "[encoded data removed]",
      "text/plain": [
       "<Figure size 400x400 with 2 Axes>"
      ]
     },
     "metadata": {},
     "output_type": "display_data"
    },
    {
     "name": "stdout",
     "output_type": "stream",
     "text": [
      "[Epoch 100/1000, patience 14] train: 23.522, val: 23.200\n",
      "Training terminated after 179 epochs\n",
      "{'delta_precision_alpha_OC': 0.0, 'delta_coverage_beta_OC': 0.0, 'authenticity_OC': 1.0}\n",
      "Quality: 0.333\n",
      "Detection: 0.817\n",
      "Performance on real: 0.624, on synth: 0.495\n",
      "Considering ablation setting: BN\n"
     ]
    },
    {
     "name": "stderr",
     "output_type": "stream",
     "text": [
      "Working for n conditional variables: 3: 100%|██████████| 3/3 [00:03<00:00,  1.11s/it]\n"
     ]
    },
    {
     "data": {
      "image/png": "[encoded data removed]",
      "text/plain": [
       "<Figure size 400x400 with 2 Axes>"
      ]
     },
     "metadata": {},
     "output_type": "display_data"
    },
    {
     "name": "stdout",
     "output_type": "stream",
     "text": [
      "[Epoch 100/1000, patience  0] train: 23.549, val: 23.224\n",
      "[Epoch 200/1000, patience 24] train: 23.518, val: 23.201\n",
      "Training terminated after 225 epochs\n",
      "{'delta_precision_alpha_OC': 0.0, 'delta_coverage_beta_OC': 0.0, 'authenticity_OC': 1.0}\n",
      "Quality: 0.333\n",
      "Detection: 0.831\n",
      "Performance on real: 0.624, on synth: 0.483\n",
      "Considering ablation setting: DENSE\n"
     ]
    },
    {
     "data": {
      "image/png": "[encoded data removed]",
      "text/plain": [
       "<Figure size 400x400 with 2 Axes>"
      ]
     },
     "metadata": {},
     "output_type": "display_data"
    },
    {
     "name": "stdout",
     "output_type": "stream",
     "text": [
      "[Epoch 100/1000, patience 20] train: 23.531, val: 23.208\n"
     ]
    },
    {
     "name": "stderr",
     "output_type": "stream",
     "text": [
      "[2023-02-28T16:41:20.673206+0000][130003][ERROR] classifier evaluation failed Only one class present in y_true. ROC AUC score is not defined in that case..\n",
      "[2023-02-28T16:41:20.687098+0000][130003][ERROR] classifier evaluation failed Only one class present in y_true. ROC AUC score is not defined in that case..\n",
      "[2023-02-28T16:41:20.721617+0000][130003][ERROR] classifier evaluation failed Only one class present in y_true. ROC AUC score is not defined in that case..\n",
      "[2023-02-28T16:41:20.736548+0000][130003][ERROR] classifier evaluation failed Only one class present in y_true. ROC AUC score is not defined in that case..\n",
      "[2023-02-28T16:41:20.775226+0000][130003][ERROR] classifier evaluation failed Only one class present in y_true. ROC AUC score is not defined in that case..\n",
      "[2023-02-28T16:41:20.789847+0000][130003][ERROR] classifier evaluation failed Only one class present in y_true. ROC AUC score is not defined in that case..\n",
      "[2023-02-28T16:41:20.801210+0000][130003][ERROR] classifier evaluation failed This solver needs samples of at least 2 classes in the data, but the data contains only one class: 0.\n",
      "[2023-02-28T16:41:20.802973+0000][130003][ERROR] classifier evaluation failed This solver needs samples of at least 2 classes in the data, but the data contains only one class: 0.\n"
     ]
    },
    {
     "name": "stdout",
     "output_type": "stream",
     "text": [
      "Training terminated after 129 epochs\n",
      "{'delta_precision_alpha_OC': 0.0, 'delta_coverage_beta_OC': 0.0, 'authenticity_OC': 1.0}\n"
     ]
    },
    {
     "name": "stderr",
     "output_type": "stream",
     "text": [
      "[2023-02-28T16:41:20.808663+0000][130003][ERROR] classifier evaluation failed This solver needs samples of at least 2 classes in the data, but the data contains only one class: 0.\n",
      "[2023-02-28T16:41:20.810557+0000][130003][ERROR] classifier evaluation failed This solver needs samples of at least 2 classes in the data, but the data contains only one class: 0.\n",
      "[2023-02-28T16:41:20.815220+0000][130003][ERROR] classifier evaluation failed This solver needs samples of at least 2 classes in the data, but the data contains only one class: 0.\n",
      "[2023-02-28T16:41:20.816764+0000][130003][ERROR] classifier evaluation failed This solver needs samples of at least 2 classes in the data, but the data contains only one class: 0.\n",
      "[2023-02-28T16:41:20.972703+0000][130003][ERROR] classifier evaluation failed Expected floating point type for target with class probabilities, got Long.\n",
      "[2023-02-28T16:41:20.977475+0000][130003][ERROR] classifier evaluation failed Expected floating point type for target with class probabilities, got Long.\n",
      "[2023-02-28T16:41:21.130714+0000][130003][ERROR] classifier evaluation failed Expected floating point type for target with class probabilities, got Long.\n",
      "[2023-02-28T16:41:21.135052+0000][130003][ERROR] classifier evaluation failed Expected floating point type for target with class probabilities, got Long.\n",
      "[2023-02-28T16:41:21.278355+0000][130003][ERROR] classifier evaluation failed Expected floating point type for target with class probabilities, got Long.\n",
      "[2023-02-28T16:41:21.282362+0000][130003][ERROR] classifier evaluation failed Expected floating point type for target with class probabilities, got Long.\n"
     ]
    },
    {
     "name": "stdout",
     "output_type": "stream",
     "text": [
      "Quality: 0.333\n",
      "Detection: 0.897\n",
      "Performance on real: 0.624, on synth: 0.000\n"
     ]
    }
   ],
   "source": [
    "from synthcity.plugins.core.dataloader import GenericDataLoader\n",
    "X_train, X_test = train_test_split(X, random_state=0, test_size=0.2, shuffle=True)\n",
    "\n",
    "for adj_type in ['ER', 'COV', 'BN', 'DENSE']:\n",
    "    print(f'Considering ablation setting: {adj_type}')\n",
    "    adj_mat = get_adj_mat(adj_type, X, n=X_train.shape[1])\n",
    "    gen = GoggleModel(\n",
    "        ds_name=dataset,\n",
    "        input_dim=X_train.shape[1],\n",
    "        encoder_dim=64,\n",
    "        encoder_l=2,\n",
    "        het_encoding=True,\n",
    "        decoder_dim=64,\n",
    "        decoder_l=2,\n",
    "        threshold=0.1,\n",
    "        het_decoder=False,\n",
    "        graph_prior=torch.Tensor(adj_mat),\n",
    "        prior_mask=torch.ones_like(torch.Tensor(adj_mat)),\n",
    "        device='cuda',\n",
    "        beta=0.1,\n",
    "        seed=0\n",
    "    )\n",
    "    gen.fit(X_train)\n",
    "    X_synth = gen.sample(X_test)\n",
    "    \n",
    "    X_synth_loader = GenericDataLoader(\n",
    "        X_synth,\n",
    "        target_column=\"target\",\n",
    "    )\n",
    "    X_test_loader = GenericDataLoader(\n",
    "        X_test,\n",
    "        target_column=\"target\",\n",
    "    )\n",
    "\n",
    "    res = gen.evaluate_synthetic(X_synth_loader, X_test_loader)\n",
    "    print(f'Quality: {res[0]:.3f}')\n",
    "    print(f'Detection: {res[2]:.3f}')\n",
    "    print(f'Performance on real: {res[1][0]:.3f}, on synth: {res[1][1]:.3f}')"
   ]
  }
 ],
 "metadata": {
  "kernelspec": {
   "display_name": "goggle3",
   "language": "python",
   "name": "python3"
  },
  "language_info": {
   "codemirror_mode": {
    "name": "ipython",
    "version": 3
   },
   "file_extension": ".py",
   "mimetype": "text/x-python",
   "name": "python",
   "nbconvert_exporter": "python",
   "pygments_lexer": "ipython3",
   "version": "3.8.16"
  },
  "vscode": {
   "interpreter": {
    "hash": "caaa7a57d4482b237d516809dd1cd7d919985bd48a5bd9057cb09257823ba4b2"
   }
  }
 },
 "nbformat": 4,
 "nbformat_minor": 5
}
