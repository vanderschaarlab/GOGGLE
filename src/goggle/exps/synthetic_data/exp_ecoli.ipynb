{
 "cells": [
  {
   "attachments": {},
   "cell_type": "markdown",
   "id": "243092a9",
   "metadata": {},
   "source": [
    "**Imports**"
   ]
  },
  {
   "cell_type": "code",
   "execution_count": 1,
   "id": "9690a3ca",
   "metadata": {},
   "outputs": [
    {
     "name": "stderr",
     "output_type": "stream",
     "text": [
      "/home/rob/miniconda3/envs/goggle10/lib/python3.9/site-packages/tqdm/auto.py:22: TqdmWarning: IProgress not found. Please update jupyter and ipywidgets. See https://ipywidgets.readthedocs.io/en/stable/user_install.html\n",
      "  from .autonotebook import tqdm as notebook_tqdm\n"
     ]
    },
    {
     "name": "stdout",
     "output_type": "stream",
     "text": [
      "2023-03-07 14:19:58,886 - Created a temporary directory at /tmp/tmpj9q6q5w5\n",
      "2023-03-07 14:19:58,887 - Writing /tmp/tmpj9q6q5w5/_remote_module_non_scriptable.py\n"
     ]
    }
   ],
   "source": [
    "# Third party\n",
    "import numpy as np\n",
    "import pandas as pd\n",
    "import matplotlib.pyplot as plt\n",
    "from sklearn.datasets import load_breast_cancer\n",
    "from sklearn.preprocessing import StandardScaler\n",
    "from sklearn.compose import ColumnTransformer\n",
    "from sklearn.model_selection import train_test_split\n",
    "from sklearn.manifold import TSNE\n",
    "import seaborn as sns\n",
    "\n",
    "# Goggle\n",
    "from goggle.GoggleModel import GoggleModel\n",
    "\n",
    "# Synthcity\n",
    "from synthcity.plugins.core.dataloader import GenericDataLoader"
   ]
  },
  {
   "cell_type": "markdown",
   "id": "bea20699",
   "metadata": {},
   "source": [
    "**Load data**"
   ]
  },
  {
   "cell_type": "code",
   "execution_count": 2,
   "id": "d2a80737",
   "metadata": {},
   "outputs": [
    {
     "data": {
      "text/html": [
       "<div>\n",
       "<style scoped>\n",
       "    .dataframe tbody tr th:only-of-type {\n",
       "        vertical-align: middle;\n",
       "    }\n",
       "\n",
       "    .dataframe tbody tr th {\n",
       "        vertical-align: top;\n",
       "    }\n",
       "\n",
       "    .dataframe thead th {\n",
       "        text-align: right;\n",
       "    }\n",
       "</style>\n",
       "<table border=\"1\" class=\"dataframe\">\n",
       "  <thead>\n",
       "    <tr style=\"text-align: right;\">\n",
       "      <th></th>\n",
       "      <th>eutG</th>\n",
       "      <th>sucA</th>\n",
       "      <th>atpG</th>\n",
       "      <th>flgD</th>\n",
       "      <th>sucD</th>\n",
       "      <th>yhdM</th>\n",
       "      <th>dnaJ</th>\n",
       "      <th>gltA</th>\n",
       "      <th>b1191</th>\n",
       "      <th>ygcE</th>\n",
       "      <th>...</th>\n",
       "      <th>pspA</th>\n",
       "      <th>nmpC</th>\n",
       "      <th>yheI</th>\n",
       "      <th>ycgX</th>\n",
       "      <th>dnaG</th>\n",
       "      <th>folK</th>\n",
       "      <th>b1963</th>\n",
       "      <th>dnaK</th>\n",
       "      <th>mopB</th>\n",
       "      <th>ftsJ</th>\n",
       "    </tr>\n",
       "  </thead>\n",
       "  <tbody>\n",
       "    <tr>\n",
       "      <th>0</th>\n",
       "      <td>-0.027759</td>\n",
       "      <td>0.122599</td>\n",
       "      <td>0.264658</td>\n",
       "      <td>0.153671</td>\n",
       "      <td>-0.043405</td>\n",
       "      <td>-0.542246</td>\n",
       "      <td>0.619729</td>\n",
       "      <td>0.084389</td>\n",
       "      <td>-0.033762</td>\n",
       "      <td>0.077002</td>\n",
       "      <td>...</td>\n",
       "      <td>-1.156587</td>\n",
       "      <td>1.542883</td>\n",
       "      <td>-0.043889</td>\n",
       "      <td>-0.338571</td>\n",
       "      <td>-0.430860</td>\n",
       "      <td>-0.336886</td>\n",
       "      <td>-0.222453</td>\n",
       "      <td>0.315515</td>\n",
       "      <td>0.629529</td>\n",
       "      <td>0.488032</td>\n",
       "    </tr>\n",
       "    <tr>\n",
       "      <th>1</th>\n",
       "      <td>0.645966</td>\n",
       "      <td>-1.182445</td>\n",
       "      <td>-0.297893</td>\n",
       "      <td>-0.958127</td>\n",
       "      <td>-1.348025</td>\n",
       "      <td>0.239957</td>\n",
       "      <td>0.669959</td>\n",
       "      <td>-2.574957</td>\n",
       "      <td>-1.916479</td>\n",
       "      <td>-2.269440</td>\n",
       "      <td>...</td>\n",
       "      <td>0.473894</td>\n",
       "      <td>-0.614861</td>\n",
       "      <td>-2.270004</td>\n",
       "      <td>-1.746693</td>\n",
       "      <td>-1.686743</td>\n",
       "      <td>-2.147293</td>\n",
       "      <td>-2.143699</td>\n",
       "      <td>-2.509647</td>\n",
       "      <td>-2.754116</td>\n",
       "      <td>-2.406968</td>\n",
       "    </tr>\n",
       "    <tr>\n",
       "      <th>2</th>\n",
       "      <td>-0.878432</td>\n",
       "      <td>0.415826</td>\n",
       "      <td>-0.418150</td>\n",
       "      <td>0.188152</td>\n",
       "      <td>0.720372</td>\n",
       "      <td>-0.339575</td>\n",
       "      <td>0.828943</td>\n",
       "      <td>0.127842</td>\n",
       "      <td>1.275507</td>\n",
       "      <td>1.133740</td>\n",
       "      <td>...</td>\n",
       "      <td>1.014847</td>\n",
       "      <td>-1.652255</td>\n",
       "      <td>0.251795</td>\n",
       "      <td>0.320190</td>\n",
       "      <td>0.420012</td>\n",
       "      <td>0.150618</td>\n",
       "      <td>-0.217249</td>\n",
       "      <td>0.413813</td>\n",
       "      <td>0.236786</td>\n",
       "      <td>-0.205489</td>\n",
       "    </tr>\n",
       "    <tr>\n",
       "      <th>3</th>\n",
       "      <td>-0.458864</td>\n",
       "      <td>0.296419</td>\n",
       "      <td>0.381965</td>\n",
       "      <td>-0.282977</td>\n",
       "      <td>1.698835</td>\n",
       "      <td>0.027809</td>\n",
       "      <td>-1.067956</td>\n",
       "      <td>-2.038131</td>\n",
       "      <td>-0.197604</td>\n",
       "      <td>-0.155425</td>\n",
       "      <td>...</td>\n",
       "      <td>-0.401261</td>\n",
       "      <td>1.322398</td>\n",
       "      <td>-0.196608</td>\n",
       "      <td>-0.457251</td>\n",
       "      <td>-0.027710</td>\n",
       "      <td>-0.278149</td>\n",
       "      <td>0.004377</td>\n",
       "      <td>-0.212255</td>\n",
       "      <td>-0.489394</td>\n",
       "      <td>-0.719893</td>\n",
       "    </tr>\n",
       "    <tr>\n",
       "      <th>4</th>\n",
       "      <td>-0.687974</td>\n",
       "      <td>0.685775</td>\n",
       "      <td>0.989306</td>\n",
       "      <td>0.398356</td>\n",
       "      <td>1.347598</td>\n",
       "      <td>-1.213816</td>\n",
       "      <td>-0.896065</td>\n",
       "      <td>-0.525506</td>\n",
       "      <td>-0.363537</td>\n",
       "      <td>0.036631</td>\n",
       "      <td>...</td>\n",
       "      <td>2.540371</td>\n",
       "      <td>-1.535672</td>\n",
       "      <td>-1.128562</td>\n",
       "      <td>-0.764837</td>\n",
       "      <td>-1.085189</td>\n",
       "      <td>-1.031513</td>\n",
       "      <td>-1.461310</td>\n",
       "      <td>-1.059138</td>\n",
       "      <td>-0.743434</td>\n",
       "      <td>-0.567452</td>\n",
       "    </tr>\n",
       "  </tbody>\n",
       "</table>\n",
       "<p>5 rows × 46 columns</p>\n",
       "</div>"
      ],
      "text/plain": [
       "       eutG      sucA      atpG      flgD      sucD      yhdM      dnaJ  \\\n",
       "0 -0.027759  0.122599  0.264658  0.153671 -0.043405 -0.542246  0.619729   \n",
       "1  0.645966 -1.182445 -0.297893 -0.958127 -1.348025  0.239957  0.669959   \n",
       "2 -0.878432  0.415826 -0.418150  0.188152  0.720372 -0.339575  0.828943   \n",
       "3 -0.458864  0.296419  0.381965 -0.282977  1.698835  0.027809 -1.067956   \n",
       "4 -0.687974  0.685775  0.989306  0.398356  1.347598 -1.213816 -0.896065   \n",
       "\n",
       "       gltA     b1191      ygcE  ...      pspA      nmpC      yheI      ycgX  \\\n",
       "0  0.084389 -0.033762  0.077002  ... -1.156587  1.542883 -0.043889 -0.338571   \n",
       "1 -2.574957 -1.916479 -2.269440  ...  0.473894 -0.614861 -2.270004 -1.746693   \n",
       "2  0.127842  1.275507  1.133740  ...  1.014847 -1.652255  0.251795  0.320190   \n",
       "3 -2.038131 -0.197604 -0.155425  ... -0.401261  1.322398 -0.196608 -0.457251   \n",
       "4 -0.525506 -0.363537  0.036631  ...  2.540371 -1.535672 -1.128562 -0.764837   \n",
       "\n",
       "       dnaG      folK     b1963      dnaK      mopB      ftsJ  \n",
       "0 -0.430860 -0.336886 -0.222453  0.315515  0.629529  0.488032  \n",
       "1 -1.686743 -2.147293 -2.143699 -2.509647 -2.754116 -2.406968  \n",
       "2  0.420012  0.150618 -0.217249  0.413813  0.236786 -0.205489  \n",
       "3 -0.027710 -0.278149  0.004377 -0.212255 -0.489394 -0.719893  \n",
       "4 -1.085189 -1.031513 -1.461310 -1.059138 -0.743434 -0.567452  \n",
       "\n",
       "[5 rows x 46 columns]"
      ]
     },
     "execution_count": 2,
     "metadata": {},
     "output_type": "execute_result"
    }
   ],
   "source": [
    "dataset = \"ecoli\"\n",
    "X = pd.read_csv(\"../data/ecoli.csv\")\n",
    "ind = list(range(len(X.columns)))\n",
    "col_list = X.columns[ind]\n",
    "ct = ColumnTransformer(\n",
    "    [(\"scaler\", StandardScaler(), col_list)], remainder=\"passthrough\"\n",
    ")\n",
    "\n",
    "X_ = ct.fit_transform(X)\n",
    "X = pd.DataFrame(X_, index=X.index, columns=X.columns)\n",
    "\n",
    "X.head()"
   ]
  },
  {
   "cell_type": "markdown",
   "id": "02b30a57",
   "metadata": {},
   "source": [
    "**Fit model**"
   ]
  },
  {
   "cell_type": "code",
   "execution_count": 3,
   "id": "3b543a81",
   "metadata": {
    "scrolled": false
   },
   "outputs": [
    {
     "data": {
      "text/plain": [
       "Goggle(\n",
       "  (learned_graph): LearnedGraph(\n",
       "    (act): Sigmoid()\n",
       "    (threshold): Threshold(threshold=0.1, value=0)\n",
       "  )\n",
       "  (encoder): Encoder(\n",
       "    (encoder): Sequential(\n",
       "      (0): Linear(in_features=46, out_features=64, bias=True)\n",
       "      (1): ReLU()\n",
       "    )\n",
       "    (encode_mu): Linear(in_features=64, out_features=46, bias=True)\n",
       "    (encode_logvar): Linear(in_features=64, out_features=46, bias=True)\n",
       "  )\n",
       "  (graph_processor): GraphInputProcessorHomo()\n",
       "  (decoder): GraphDecoderHomo(\n",
       "    (decoder): Sequential(\n",
       "      (0): GraphConv(\n",
       "        in=64, out=32, normalization=both\n",
       "        (_activation): Tanh()\n",
       "      )\n",
       "      (1): GraphConv(in=32, out=1, normalization=both, activation=None)\n",
       "    )\n",
       "  )\n",
       ")"
      ]
     },
     "execution_count": 3,
     "metadata": {},
     "output_type": "execute_result"
    }
   ],
   "source": [
    "X_train, X_test = train_test_split(X, random_state=0, test_size=0.2, shuffle=True)\n",
    "\n",
    "gen = GoggleModel(\n",
    "    ds_name=dataset,\n",
    "    input_dim=X_train.shape[1],\n",
    "    encoder_dim=64,\n",
    "    encoder_l=2,\n",
    "    het_encoding=True,\n",
    "    decoder_dim=64,\n",
    "    decoder_l=2,\n",
    "    threshold=0.1,\n",
    "    decoder_arch=\"gcn\",\n",
    "    graph_prior=None,\n",
    "    prior_mask=None,\n",
    "    device=\"cpu\",\n",
    "    beta=0.1,\n",
    "    learning_rate=0.01,\n",
    "    seed=0,\n",
    ")\n",
    "gen.model"
   ]
  },
  {
   "cell_type": "code",
   "execution_count": 4,
   "id": "d5851241",
   "metadata": {
    "scrolled": true
   },
   "outputs": [
    {
     "name": "stdout",
     "output_type": "stream",
     "text": [
      "[Epoch 100/1000, patience  0] train: 21.204, val: 20.868\n",
      "[Epoch 200/1000, patience  5] train: 15.263, val: 15.715\n",
      "[Epoch 300/1000, patience  9] train: 14.284, val: 14.707\n",
      "Training terminated after 398 epochs\n"
     ]
    }
   ],
   "source": [
    "gen.fit(X_train)"
   ]
  },
  {
   "cell_type": "markdown",
   "id": "95518c5c",
   "metadata": {},
   "source": [
    "**Evaluate synthetic data**"
   ]
  },
  {
   "cell_type": "code",
   "execution_count": 5,
   "id": "2562b5d8",
   "metadata": {},
   "outputs": [
    {
     "data": {
      "text/html": [
       "<div>\n",
       "<style scoped>\n",
       "    .dataframe tbody tr th:only-of-type {\n",
       "        vertical-align: middle;\n",
       "    }\n",
       "\n",
       "    .dataframe tbody tr th {\n",
       "        vertical-align: top;\n",
       "    }\n",
       "\n",
       "    .dataframe thead th {\n",
       "        text-align: right;\n",
       "    }\n",
       "</style>\n",
       "<table border=\"1\" class=\"dataframe\">\n",
       "  <thead>\n",
       "    <tr style=\"text-align: right;\">\n",
       "      <th></th>\n",
       "      <th>eutG</th>\n",
       "      <th>sucA</th>\n",
       "      <th>atpG</th>\n",
       "      <th>flgD</th>\n",
       "      <th>sucD</th>\n",
       "      <th>yhdM</th>\n",
       "      <th>dnaJ</th>\n",
       "      <th>gltA</th>\n",
       "      <th>b1191</th>\n",
       "      <th>ygcE</th>\n",
       "      <th>...</th>\n",
       "      <th>pspA</th>\n",
       "      <th>nmpC</th>\n",
       "      <th>yheI</th>\n",
       "      <th>ycgX</th>\n",
       "      <th>dnaG</th>\n",
       "      <th>folK</th>\n",
       "      <th>b1963</th>\n",
       "      <th>dnaK</th>\n",
       "      <th>mopB</th>\n",
       "      <th>ftsJ</th>\n",
       "    </tr>\n",
       "  </thead>\n",
       "  <tbody>\n",
       "    <tr>\n",
       "      <th>0</th>\n",
       "      <td>-0.375861</td>\n",
       "      <td>-0.753224</td>\n",
       "      <td>-0.910092</td>\n",
       "      <td>-0.973805</td>\n",
       "      <td>-0.919174</td>\n",
       "      <td>0.574520</td>\n",
       "      <td>-0.055570</td>\n",
       "      <td>-0.517778</td>\n",
       "      <td>-2.047850</td>\n",
       "      <td>-1.595053</td>\n",
       "      <td>...</td>\n",
       "      <td>-0.187476</td>\n",
       "      <td>-1.002960</td>\n",
       "      <td>-1.051643</td>\n",
       "      <td>-0.857759</td>\n",
       "      <td>-0.866849</td>\n",
       "      <td>-1.007226</td>\n",
       "      <td>-0.946558</td>\n",
       "      <td>-1.017826</td>\n",
       "      <td>-1.085150</td>\n",
       "      <td>-1.166231</td>\n",
       "    </tr>\n",
       "    <tr>\n",
       "      <th>1</th>\n",
       "      <td>-0.638337</td>\n",
       "      <td>-0.977382</td>\n",
       "      <td>-0.993201</td>\n",
       "      <td>-1.056979</td>\n",
       "      <td>-1.168747</td>\n",
       "      <td>-1.066886</td>\n",
       "      <td>-1.937524</td>\n",
       "      <td>-0.715550</td>\n",
       "      <td>-2.353503</td>\n",
       "      <td>-1.654174</td>\n",
       "      <td>...</td>\n",
       "      <td>-1.027959</td>\n",
       "      <td>-1.410679</td>\n",
       "      <td>-1.641957</td>\n",
       "      <td>-1.490051</td>\n",
       "      <td>-1.513569</td>\n",
       "      <td>-1.524874</td>\n",
       "      <td>-1.430482</td>\n",
       "      <td>-1.584148</td>\n",
       "      <td>-1.861670</td>\n",
       "      <td>-1.969629</td>\n",
       "    </tr>\n",
       "    <tr>\n",
       "      <th>2</th>\n",
       "      <td>-0.518034</td>\n",
       "      <td>0.654877</td>\n",
       "      <td>0.655639</td>\n",
       "      <td>0.698569</td>\n",
       "      <td>0.629066</td>\n",
       "      <td>0.657418</td>\n",
       "      <td>1.057090</td>\n",
       "      <td>0.290978</td>\n",
       "      <td>0.814816</td>\n",
       "      <td>0.570631</td>\n",
       "      <td>...</td>\n",
       "      <td>0.362330</td>\n",
       "      <td>1.063619</td>\n",
       "      <td>0.214605</td>\n",
       "      <td>-0.177581</td>\n",
       "      <td>-0.128548</td>\n",
       "      <td>0.225373</td>\n",
       "      <td>0.164186</td>\n",
       "      <td>0.159636</td>\n",
       "      <td>0.145063</td>\n",
       "      <td>0.157723</td>\n",
       "    </tr>\n",
       "    <tr>\n",
       "      <th>3</th>\n",
       "      <td>-0.532532</td>\n",
       "      <td>0.482868</td>\n",
       "      <td>0.302881</td>\n",
       "      <td>0.224226</td>\n",
       "      <td>0.364107</td>\n",
       "      <td>-0.344793</td>\n",
       "      <td>0.746106</td>\n",
       "      <td>0.213283</td>\n",
       "      <td>1.158357</td>\n",
       "      <td>1.104599</td>\n",
       "      <td>...</td>\n",
       "      <td>-1.221648</td>\n",
       "      <td>1.099884</td>\n",
       "      <td>0.561035</td>\n",
       "      <td>0.392876</td>\n",
       "      <td>0.409284</td>\n",
       "      <td>0.495321</td>\n",
       "      <td>0.553734</td>\n",
       "      <td>0.486493</td>\n",
       "      <td>0.411364</td>\n",
       "      <td>0.364535</td>\n",
       "    </tr>\n",
       "    <tr>\n",
       "      <th>4</th>\n",
       "      <td>-1.517934</td>\n",
       "      <td>-1.613787</td>\n",
       "      <td>-1.463419</td>\n",
       "      <td>-1.524580</td>\n",
       "      <td>-1.481101</td>\n",
       "      <td>-1.508846</td>\n",
       "      <td>-1.804669</td>\n",
       "      <td>-1.084534</td>\n",
       "      <td>-1.351065</td>\n",
       "      <td>-0.953548</td>\n",
       "      <td>...</td>\n",
       "      <td>-0.904063</td>\n",
       "      <td>-1.617150</td>\n",
       "      <td>-1.168051</td>\n",
       "      <td>-1.015725</td>\n",
       "      <td>-1.038642</td>\n",
       "      <td>-1.129284</td>\n",
       "      <td>-1.031043</td>\n",
       "      <td>-1.143123</td>\n",
       "      <td>-1.308230</td>\n",
       "      <td>-1.364228</td>\n",
       "    </tr>\n",
       "  </tbody>\n",
       "</table>\n",
       "<p>5 rows × 46 columns</p>\n",
       "</div>"
      ],
      "text/plain": [
       "       eutG      sucA      atpG      flgD      sucD      yhdM      dnaJ  \\\n",
       "0 -0.375861 -0.753224 -0.910092 -0.973805 -0.919174  0.574520 -0.055570   \n",
       "1 -0.638337 -0.977382 -0.993201 -1.056979 -1.168747 -1.066886 -1.937524   \n",
       "2 -0.518034  0.654877  0.655639  0.698569  0.629066  0.657418  1.057090   \n",
       "3 -0.532532  0.482868  0.302881  0.224226  0.364107 -0.344793  0.746106   \n",
       "4 -1.517934 -1.613787 -1.463419 -1.524580 -1.481101 -1.508846 -1.804669   \n",
       "\n",
       "       gltA     b1191      ygcE  ...      pspA      nmpC      yheI      ycgX  \\\n",
       "0 -0.517778 -2.047850 -1.595053  ... -0.187476 -1.002960 -1.051643 -0.857759   \n",
       "1 -0.715550 -2.353503 -1.654174  ... -1.027959 -1.410679 -1.641957 -1.490051   \n",
       "2  0.290978  0.814816  0.570631  ...  0.362330  1.063619  0.214605 -0.177581   \n",
       "3  0.213283  1.158357  1.104599  ... -1.221648  1.099884  0.561035  0.392876   \n",
       "4 -1.084534 -1.351065 -0.953548  ... -0.904063 -1.617150 -1.168051 -1.015725   \n",
       "\n",
       "       dnaG      folK     b1963      dnaK      mopB      ftsJ  \n",
       "0 -0.866849 -1.007226 -0.946558 -1.017826 -1.085150 -1.166231  \n",
       "1 -1.513569 -1.524874 -1.430482 -1.584148 -1.861670 -1.969629  \n",
       "2 -0.128548  0.225373  0.164186  0.159636  0.145063  0.157723  \n",
       "3  0.409284  0.495321  0.553734  0.486493  0.411364  0.364535  \n",
       "4 -1.038642 -1.129284 -1.031043 -1.143123 -1.308230 -1.364228  \n",
       "\n",
       "[5 rows x 46 columns]"
      ]
     },
     "execution_count": 5,
     "metadata": {},
     "output_type": "execute_result"
    }
   ],
   "source": [
    "X_synth = gen.sample(X_test)\n",
    "X_synth.head()"
   ]
  },
  {
   "cell_type": "code",
   "execution_count": 6,
   "id": "34f4a021",
   "metadata": {},
   "outputs": [
    {
     "name": "stdout",
     "output_type": "stream",
     "text": [
      "Quality: 0.645\n",
      "Detection: 0.760\n",
      "Performance on real: 0.975, on synth: 0.965, diff: 0.010\n"
     ]
    }
   ],
   "source": [
    "X_synth_loader = GenericDataLoader(\n",
    "    X_synth,\n",
    "    target_column=\"ftsJ\",\n",
    ")\n",
    "X_test_loader = GenericDataLoader(\n",
    "    X_test,\n",
    "    target_column=\"ftsJ\",\n",
    ")\n",
    "\n",
    "res = gen.evaluate_synthetic(X_synth_loader, X_test_loader)\n",
    "print(f\"Quality: {res[0]:.3f}\")\n",
    "print(f\"Detection: {res[2]:.3f}\")\n",
    "print(\n",
    "    f\"Performance on real: {res[1][0]:.3f}, on synth: {res[1][1]:.3f}, diff: {(res[1][0] - res[1][1]):.3f}\"\n",
    ")"
   ]
  },
  {
   "cell_type": "markdown",
   "id": "3328d07b",
   "metadata": {},
   "source": [
    "**Generate TSNE plots**"
   ]
  },
  {
   "cell_type": "code",
   "execution_count": 7,
   "id": "75b4fa9c",
   "metadata": {},
   "outputs": [],
   "source": [
    "X_test[\"label\"] = \"Original\"\n",
    "X_synth[\"label\"] = \"Synthetic\"\n",
    "\n",
    "concat_df = pd.concat([X_test, X_synth], axis=0)\n",
    "y_data = concat_df[\"label\"]\n",
    "x_data = concat_df.drop([\"label\", \"ftsJ\"], axis=1)"
   ]
  },
  {
   "cell_type": "code",
   "execution_count": 8,
   "id": "587eeaa7",
   "metadata": {},
   "outputs": [],
   "source": [
    "tsne = TSNE(n_components=2, verbose=0, random_state=0)\n",
    "z = tsne.fit_transform(x_data)\n",
    "df = pd.DataFrame()\n",
    "df[\"y\"] = y_data\n",
    "df[\"comp-1\"] = z[:, 0]\n",
    "df[\"comp-2\"] = z[:, 1]"
   ]
  },
  {
   "cell_type": "code",
   "execution_count": 9,
   "id": "8f2acfc2",
   "metadata": {},
   "outputs": [
    {
     "data": {
      "image/png": "[encoded data removed]",
      "text/plain": [
       "<Figure size 400x400 with 1 Axes>"
      ]
     },
     "metadata": {},
     "output_type": "display_data"
    }
   ],
   "source": [
    "plt.figure(figsize=(4, 4))\n",
    "sns.scatterplot(\n",
    "    x=\"comp-1\",\n",
    "    y=\"comp-2\",\n",
    "    hue=df.y.tolist(),\n",
    "    palette=sns.color_palette(\"hls\", 2),\n",
    "    alpha=0.5,\n",
    "    data=df,\n",
    ").set(title=f\"T-SNE Projection\")\n",
    "plt.xlabel(\"comp-1\")\n",
    "plt.ylabel(\"comp-2\")\n",
    "plt.legend()\n",
    "\n",
    "plt.show()"
   ]
  },
  {
   "cell_type": "markdown",
   "id": "87eac39a",
   "metadata": {},
   "source": [
    "**Visualise adjacency matrix**"
   ]
  },
  {
   "cell_type": "code",
   "execution_count": 10,
   "id": "12145d90",
   "metadata": {},
   "outputs": [
    {
     "data": {
      "image/png": "[encoded data removed]",
      "text/plain": [
       "<Figure size 400x400 with 2 Axes>"
      ]
     },
     "metadata": {},
     "output_type": "display_data"
    }
   ],
   "source": [
    "adj_matrix = gen.model.learned_graph(100).cpu().detach().numpy()\n",
    "plt.figure(figsize=(4, 4))\n",
    "im = plt.imshow(adj_matrix, cmap=\"inferno\", interpolation=\"nearest\", vmin=0, vmax=1.0)\n",
    "plt.colorbar(im, fraction=0.046, pad=0.04)\n",
    "plt.title(\"Learned graph\")\n",
    "plt.axis(\"off\")\n",
    "plt.show()"
   ]
  },
  {
   "cell_type": "code",
   "execution_count": 11,
   "id": "594a4240",
   "metadata": {},
   "outputs": [],
   "source": [
    "adj_df = pd.DataFrame(adj_matrix)\n",
    "adj_df.to_csv(\"../data/ecoli_adj_matrix.csv\")"
   ]
  }
 ],
 "metadata": {
  "kernelspec": {
   "display_name": "goggle3",
   "language": "python",
   "name": "python3"
  },
  "language_info": {
   "codemirror_mode": {
    "name": "ipython",
    "version": 3
   },
   "file_extension": ".py",
   "mimetype": "text/x-python",
   "name": "python",
   "nbconvert_exporter": "python",
   "pygments_lexer": "ipython3",
   "version": "3.9.16"
  },
  "vscode": {
   "interpreter": {
    "hash": "caaa7a57d4482b237d516809dd1cd7d919985bd48a5bd9057cb09257823ba4b2"
   }
  }
 },
 "nbformat": 4,
 "nbformat_minor": 5
}
