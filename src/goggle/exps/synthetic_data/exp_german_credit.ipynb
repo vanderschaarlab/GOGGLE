{
 "cells": [
  {
   "cell_type": "code",
   "execution_count": 1,
   "id": "9690a3ca",
   "metadata": {},
   "outputs": [],
   "source": [
    "import sys\n",
    "sys.path.append('../.')\n",
    "sys.path.append('../../.')\n",
    "import pandas as pd\n",
    "import matplotlib.pyplot as plt\n",
    "import numpy as np"
   ]
  },
  {
   "cell_type": "markdown",
   "id": "bea20699",
   "metadata": {},
   "source": [
    "**Load data**"
   ]
  },
  {
   "cell_type": "code",
   "execution_count": 2,
   "id": "d2a80737",
   "metadata": {},
   "outputs": [
    {
     "data": {
      "text/plain": [
       "(1000, 25)"
      ]
     },
     "execution_count": 2,
     "metadata": {},
     "output_type": "execute_result"
    }
   ],
   "source": [
    "from sklearn.preprocessing import StandardScaler\n",
    "from sklearn.compose import ColumnTransformer\n",
    "\n",
    "dataset = 'credit'\n",
    "X = pd.read_csv('../data/german_credit_2.csv')\n",
    "target = X.pop('Creditability')\n",
    "X['target']=target\n",
    "X = X.dropna(axis=0)\n",
    "ind = list(range(len(X.columns)))\n",
    "ind = [x for x in ind if x != X.columns.get_loc(\"target\")]\n",
    "col_list = X.columns[ind]\n",
    "ct = ColumnTransformer([('scaler', StandardScaler(), col_list)], remainder='passthrough')\n",
    "\n",
    "X_ = ct.fit_transform(X)\n",
    "X = pd.DataFrame(X_, index=X.index, columns=X.columns)\n",
    "\n",
    "X.head()\n",
    "X.shape"
   ]
  },
  {
   "cell_type": "markdown",
   "id": "02b30a57",
   "metadata": {},
   "source": [
    "**Fit model**"
   ]
  },
  {
   "cell_type": "code",
   "execution_count": 3,
   "id": "77e922af",
   "metadata": {},
   "outputs": [
    {
     "name": "stderr",
     "output_type": "stream",
     "text": [
      "/home/rob/miniconda3/envs/goggle3/lib/python3.8/site-packages/tqdm/auto.py:22: TqdmWarning: IProgress not found. Please update jupyter and ipywidgets. See https://ipywidgets.readthedocs.io/en/stable/user_install.html\n",
      "  from .autonotebook import tqdm as notebook_tqdm\n"
     ]
    }
   ],
   "source": [
    "from sklearn.model_selection import train_test_split\n",
    "from GoggleModel import GoggleModel"
   ]
  },
  {
   "cell_type": "code",
   "execution_count": 4,
   "id": "3b543a81",
   "metadata": {
    "scrolled": false
   },
   "outputs": [
    {
     "data": {
      "text/plain": [
       "Goggle(\n",
       "  (learned_graph): LearnedGraph(\n",
       "    (act): Sigmoid()\n",
       "    (threshold): Threshold(threshold=0.1, value=0)\n",
       "  )\n",
       "  (encoder): Encoder(\n",
       "    (encoder): Sequential(\n",
       "      (0): Linear(in_features=25, out_features=64, bias=True)\n",
       "      (1): ReLU()\n",
       "    )\n",
       "    (encode_mu): Linear(in_features=64, out_features=25, bias=True)\n",
       "    (encode_logvar): Linear(in_features=64, out_features=25, bias=True)\n",
       "  )\n",
       "  (graph_processor): GraphInputProcessorHomo()\n",
       "  (decoder): GraphDecoderHomo(\n",
       "    (decoder): Sequential(\n",
       "      (0): GraphConv(\n",
       "        in=64, out=32, normalization=both\n",
       "        (_activation): Tanh()\n",
       "      )\n",
       "      (1): GraphConv(in=32, out=1, normalization=both, activation=None)\n",
       "    )\n",
       "  )\n",
       ")"
      ]
     },
     "execution_count": 4,
     "metadata": {},
     "output_type": "execute_result"
    }
   ],
   "source": [
    "X_train, X_test = train_test_split(X, random_state=1, test_size=0.2, shuffle=True)\n",
    "\n",
    "gen = GoggleModel(\n",
    "    ds_name=dataset,\n",
    "    input_dim=X_train.shape[1],\n",
    "    encoder_dim=64,\n",
    "    encoder_l=2,\n",
    "    het_encoding=True,\n",
    "    decoder_dim=64,\n",
    "    decoder_l=2,\n",
    "    threshold=0.1,\n",
    "    decoder_arch='gcn',\n",
    "    graph_prior=None,\n",
    "    prior_mask=None,\n",
    "    device='cuda',\n",
    "    beta=0.1,\n",
    "    learning_rate=0.01,\n",
    "    seed=0\n",
    ")\n",
    "gen.model"
   ]
  },
  {
   "cell_type": "code",
   "execution_count": 5,
   "id": "d5851241",
   "metadata": {
    "scrolled": true
   },
   "outputs": [
    {
     "name": "stdout",
     "output_type": "stream",
     "text": [
      "[Epoch 100/1000, patience  1] train: 20.250, val: 20.999\n",
      "[Epoch 200/1000, patience  8] train: 19.336, val: 20.385\n",
      "[Epoch 300/1000, patience  6] train: 17.262, val: 18.475\n",
      "[Epoch 400/1000, patience 12] train: 16.785, val: 17.984\n",
      "[Epoch 500/1000, patience 36] train: 16.620, val: 17.893\n",
      "Training terminated after 552 epochs\n"
     ]
    }
   ],
   "source": [
    "gen.fit(X_train)"
   ]
  },
  {
   "cell_type": "markdown",
   "id": "95518c5c",
   "metadata": {},
   "source": [
    "**Evaluate synthetic data**"
   ]
  },
  {
   "cell_type": "code",
   "execution_count": 6,
   "id": "2562b5d8",
   "metadata": {},
   "outputs": [
    {
     "data": {
      "text/html": [
       "<div>\n",
       "<style scoped>\n",
       "    .dataframe tbody tr th:only-of-type {\n",
       "        vertical-align: middle;\n",
       "    }\n",
       "\n",
       "    .dataframe tbody tr th {\n",
       "        vertical-align: top;\n",
       "    }\n",
       "\n",
       "    .dataframe thead th {\n",
       "        text-align: right;\n",
       "    }\n",
       "</style>\n",
       "<table border=\"1\" class=\"dataframe\">\n",
       "  <thead>\n",
       "    <tr style=\"text-align: right;\">\n",
       "      <th></th>\n",
       "      <th>Attribute 1</th>\n",
       "      <th>Attribute 2</th>\n",
       "      <th>Attribute 3</th>\n",
       "      <th>Attribute 4</th>\n",
       "      <th>Attribute 5</th>\n",
       "      <th>Attribute 6</th>\n",
       "      <th>Attribute 7</th>\n",
       "      <th>Attribute 8</th>\n",
       "      <th>Attribute 9</th>\n",
       "      <th>Attribute 10</th>\n",
       "      <th>...</th>\n",
       "      <th>Attribute 16</th>\n",
       "      <th>Attribute 17</th>\n",
       "      <th>Attribute 18</th>\n",
       "      <th>Attribute 19</th>\n",
       "      <th>Attribute 20</th>\n",
       "      <th>Attribute 21</th>\n",
       "      <th>Attribute 22</th>\n",
       "      <th>Attribute 23</th>\n",
       "      <th>Attribute 24</th>\n",
       "      <th>target</th>\n",
       "    </tr>\n",
       "  </thead>\n",
       "  <tbody>\n",
       "    <tr>\n",
       "      <th>0</th>\n",
       "      <td>-1.254566</td>\n",
       "      <td>-0.204668</td>\n",
       "      <td>-2.350870</td>\n",
       "      <td>-0.211784</td>\n",
       "      <td>-0.699707</td>\n",
       "      <td>-1.145978</td>\n",
       "      <td>-2.376626</td>\n",
       "      <td>-0.765977</td>\n",
       "      <td>0.611613</td>\n",
       "      <td>-1.374736</td>\n",
       "      <td>...</td>\n",
       "      <td>-0.552705</td>\n",
       "      <td>-0.338862</td>\n",
       "      <td>-3.122929</td>\n",
       "      <td>-0.206768</td>\n",
       "      <td>-0.466933</td>\n",
       "      <td>-1.576173</td>\n",
       "      <td>-0.149983</td>\n",
       "      <td>-0.5</td>\n",
       "      <td>-1.304877</td>\n",
       "      <td>1.0</td>\n",
       "    </tr>\n",
       "    <tr>\n",
       "      <th>1</th>\n",
       "      <td>0.336513</td>\n",
       "      <td>0.830533</td>\n",
       "      <td>1.344014</td>\n",
       "      <td>1.052817</td>\n",
       "      <td>1.199950</td>\n",
       "      <td>1.338078</td>\n",
       "      <td>0.449326</td>\n",
       "      <td>1.046987</td>\n",
       "      <td>0.611613</td>\n",
       "      <td>1.465583</td>\n",
       "      <td>...</td>\n",
       "      <td>1.809283</td>\n",
       "      <td>2.951057</td>\n",
       "      <td>0.320212</td>\n",
       "      <td>-0.206768</td>\n",
       "      <td>2.141633</td>\n",
       "      <td>0.634448</td>\n",
       "      <td>-0.149983</td>\n",
       "      <td>2.0</td>\n",
       "      <td>0.766356</td>\n",
       "      <td>2.0</td>\n",
       "    </tr>\n",
       "    <tr>\n",
       "      <th>2</th>\n",
       "      <td>1.132053</td>\n",
       "      <td>1.813283</td>\n",
       "      <td>1.344014</td>\n",
       "      <td>1.915423</td>\n",
       "      <td>1.833169</td>\n",
       "      <td>1.338078</td>\n",
       "      <td>1.862303</td>\n",
       "      <td>1.046987</td>\n",
       "      <td>1.564281</td>\n",
       "      <td>1.984631</td>\n",
       "      <td>...</td>\n",
       "      <td>1.809283</td>\n",
       "      <td>2.951057</td>\n",
       "      <td>0.320212</td>\n",
       "      <td>4.836346</td>\n",
       "      <td>2.141633</td>\n",
       "      <td>0.634448</td>\n",
       "      <td>-0.149983</td>\n",
       "      <td>2.0</td>\n",
       "      <td>0.766356</td>\n",
       "      <td>2.0</td>\n",
       "    </tr>\n",
       "    <tr>\n",
       "      <th>3</th>\n",
       "      <td>-0.459026</td>\n",
       "      <td>-0.353122</td>\n",
       "      <td>-0.503428</td>\n",
       "      <td>-0.356410</td>\n",
       "      <td>-0.699707</td>\n",
       "      <td>-0.317959</td>\n",
       "      <td>-0.963650</td>\n",
       "      <td>0.140505</td>\n",
       "      <td>-0.341055</td>\n",
       "      <td>-0.427689</td>\n",
       "      <td>...</td>\n",
       "      <td>-0.552705</td>\n",
       "      <td>-0.338862</td>\n",
       "      <td>0.320212</td>\n",
       "      <td>-0.206768</td>\n",
       "      <td>-0.466933</td>\n",
       "      <td>-1.576173</td>\n",
       "      <td>-0.149983</td>\n",
       "      <td>-0.5</td>\n",
       "      <td>-1.304877</td>\n",
       "      <td>1.0</td>\n",
       "    </tr>\n",
       "    <tr>\n",
       "      <th>4</th>\n",
       "      <td>0.336513</td>\n",
       "      <td>0.316777</td>\n",
       "      <td>1.344014</td>\n",
       "      <td>0.371832</td>\n",
       "      <td>1.199950</td>\n",
       "      <td>0.510060</td>\n",
       "      <td>0.449326</td>\n",
       "      <td>1.046987</td>\n",
       "      <td>0.611613</td>\n",
       "      <td>0.775706</td>\n",
       "      <td>...</td>\n",
       "      <td>1.809283</td>\n",
       "      <td>-0.338862</td>\n",
       "      <td>0.320212</td>\n",
       "      <td>-0.206768</td>\n",
       "      <td>-0.466933</td>\n",
       "      <td>0.634448</td>\n",
       "      <td>-0.149983</td>\n",
       "      <td>-0.5</td>\n",
       "      <td>0.766356</td>\n",
       "      <td>2.0</td>\n",
       "    </tr>\n",
       "  </tbody>\n",
       "</table>\n",
       "<p>5 rows × 25 columns</p>\n",
       "</div>"
      ],
      "text/plain": [
       "   Attribute 1  Attribute 2  Attribute 3  Attribute 4  Attribute 5  \\\n",
       "0    -1.254566    -0.204668    -2.350870    -0.211784    -0.699707   \n",
       "1     0.336513     0.830533     1.344014     1.052817     1.199950   \n",
       "2     1.132053     1.813283     1.344014     1.915423     1.833169   \n",
       "3    -0.459026    -0.353122    -0.503428    -0.356410    -0.699707   \n",
       "4     0.336513     0.316777     1.344014     0.371832     1.199950   \n",
       "\n",
       "   Attribute 6  Attribute 7  Attribute 8  Attribute 9  Attribute 10  ...  \\\n",
       "0    -1.145978    -2.376626    -0.765977     0.611613     -1.374736  ...   \n",
       "1     1.338078     0.449326     1.046987     0.611613      1.465583  ...   \n",
       "2     1.338078     1.862303     1.046987     1.564281      1.984631  ...   \n",
       "3    -0.317959    -0.963650     0.140505    -0.341055     -0.427689  ...   \n",
       "4     0.510060     0.449326     1.046987     0.611613      0.775706  ...   \n",
       "\n",
       "   Attribute 16  Attribute 17  Attribute 18  Attribute 19  Attribute 20  \\\n",
       "0     -0.552705     -0.338862     -3.122929     -0.206768     -0.466933   \n",
       "1      1.809283      2.951057      0.320212     -0.206768      2.141633   \n",
       "2      1.809283      2.951057      0.320212      4.836346      2.141633   \n",
       "3     -0.552705     -0.338862      0.320212     -0.206768     -0.466933   \n",
       "4      1.809283     -0.338862      0.320212     -0.206768     -0.466933   \n",
       "\n",
       "   Attribute 21  Attribute 22  Attribute 23  Attribute 24  target  \n",
       "0     -1.576173     -0.149983          -0.5     -1.304877     1.0  \n",
       "1      0.634448     -0.149983           2.0      0.766356     2.0  \n",
       "2      0.634448     -0.149983           2.0      0.766356     2.0  \n",
       "3     -1.576173     -0.149983          -0.5     -1.304877     1.0  \n",
       "4      0.634448     -0.149983          -0.5      0.766356     2.0  \n",
       "\n",
       "[5 rows x 25 columns]"
      ]
     },
     "execution_count": 6,
     "metadata": {},
     "output_type": "execute_result"
    }
   ],
   "source": [
    "X_synth = gen.sample(X_test)\n",
    "X_synth.head()"
   ]
  },
  {
   "cell_type": "code",
   "execution_count": 7,
   "id": "a2d07a96",
   "metadata": {},
   "outputs": [
    {
     "name": "stdout",
     "output_type": "stream",
     "text": [
      "{'delta_precision_alpha_OC': 0.04733333333333334, 'delta_coverage_beta_OC': 0.052000000000000046, 'authenticity_OC': 0.96}\n",
      "Quality: 0.353\n",
      "Detection: 0.775\n",
      "Performance on real: 0.663, on synth: 0.518\n"
     ]
    }
   ],
   "source": [
    "from synthcity.plugins.core.dataloader import GenericDataLoader\n",
    "X_synth_loader = GenericDataLoader(\n",
    "    X_synth,\n",
    "    target_column=\"target\",\n",
    ")\n",
    "X_test_loader = GenericDataLoader(\n",
    "    X_test,\n",
    "    target_column=\"target\",\n",
    ")\n",
    "\n",
    "res = gen.evaluate_synthetic(X_synth_loader, X_test_loader)\n",
    "print(f'Quality: {res[0]:.3f}')\n",
    "print(f'Detection: {res[2]:.3f}')\n",
    "print(f'Performance on real: {res[1][0]:.3f}, on synth: {res[1][1]:.3f}')"
   ]
  },
  {
   "cell_type": "markdown",
   "id": "3328d07b",
   "metadata": {},
   "source": [
    "**Generate TSNE plots**"
   ]
  },
  {
   "cell_type": "code",
   "execution_count": 8,
   "id": "75b4fa9c",
   "metadata": {},
   "outputs": [],
   "source": [
    "X_test['label'] = 'Original'\n",
    "X_synth['label'] = 'Synthetic'\n",
    "\n",
    "concat_df = pd.concat([X_test, X_synth], axis=0)\n",
    "y_data = concat_df['label']\n",
    "x_data = concat_df.drop(['label', 'target'], axis=1)"
   ]
  },
  {
   "cell_type": "code",
   "execution_count": 9,
   "id": "587eeaa7",
   "metadata": {},
   "outputs": [],
   "source": [
    "from sklearn.manifold import TSNE\n",
    "import seaborn as sns\n",
    "\n",
    "tsne = TSNE(n_components=2, verbose=0, random_state=0)\n",
    "z = tsne.fit_transform(x_data)\n",
    "df = pd.DataFrame()\n",
    "df[\"y\"] = y_data\n",
    "df[\"comp-1\"] = z[:,0]\n",
    "df[\"comp-2\"] = z[:,1]"
   ]
  },
  {
   "cell_type": "code",
   "execution_count": 10,
   "id": "8f2acfc2",
   "metadata": {},
   "outputs": [
    {
     "data": {
      "image/png": "[encoded data removed]",
      "text/plain": [
       "<Figure size 400x400 with 1 Axes>"
      ]
     },
     "metadata": {},
     "output_type": "display_data"
    }
   ],
   "source": [
    "plt.figure(figsize=(4, 4))\n",
    "sns.scatterplot(x=\"comp-1\", y=\"comp-2\", hue=df.y.tolist(),\n",
    "                palette=sns.color_palette(\"hls\", 2), alpha=0.5,\n",
    "                data=df).set(title=f\"T-SNE Projection\")\n",
    "plt.xlabel('comp-1')\n",
    "plt.ylabel('comp-2')\n",
    "plt.legend()\n",
    "\n",
    "plt.show()"
   ]
  },
  {
   "cell_type": "markdown",
   "id": "87eac39a",
   "metadata": {},
   "source": [
    "**Visualise adjacency matrix**"
   ]
  },
  {
   "cell_type": "code",
   "execution_count": 11,
   "id": "12145d90",
   "metadata": {},
   "outputs": [
    {
     "data": {
      "image/png": "[encoded data removed]",
      "text/plain": [
       "<Figure size 400x400 with 2 Axes>"
      ]
     },
     "metadata": {},
     "output_type": "display_data"
    }
   ],
   "source": [
    "adj_matrix = gen.model.learned_graph(100).cpu().detach().numpy()\n",
    "plt.figure(figsize=(4, 4))\n",
    "im = plt.imshow(adj_matrix, cmap='inferno', interpolation='nearest', vmin=0, vmax=1.0)\n",
    "plt.colorbar(im, fraction=0.046, pad=0.04)\n",
    "plt.title('Learned graph')\n",
    "plt.axis('off')\n",
    "plt.show()"
   ]
  },
  {
   "cell_type": "code",
   "execution_count": null,
   "id": "e5a02378",
   "metadata": {},
   "outputs": [],
   "source": []
  }
 ],
 "metadata": {
  "kernelspec": {
   "display_name": "goggle3",
   "language": "python",
   "name": "python3"
  },
  "language_info": {
   "codemirror_mode": {
    "name": "ipython",
    "version": 3
   },
   "file_extension": ".py",
   "mimetype": "text/x-python",
   "name": "python",
   "nbconvert_exporter": "python",
   "pygments_lexer": "ipython3",
   "version": "3.8.16"
  },
  "vscode": {
   "interpreter": {
    "hash": "caaa7a57d4482b237d516809dd1cd7d919985bd48a5bd9057cb09257823ba4b2"
   }
  }
 },
 "nbformat": 4,
 "nbformat_minor": 5
}
