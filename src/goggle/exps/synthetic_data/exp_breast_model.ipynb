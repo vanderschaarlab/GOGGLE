{
 "cells": [
  {
   "cell_type": "code",
   "execution_count": 1,
   "id": "9690a3ca",
   "metadata": {},
   "outputs": [
    {
     "name": "stderr",
     "output_type": "stream",
     "text": [
      "/home/rob/miniconda3/envs/goggle10/lib/python3.9/site-packages/tqdm/auto.py:22: TqdmWarning: IProgress not found. Please update jupyter and ipywidgets. See https://ipywidgets.readthedocs.io/en/stable/user_install.html\n",
      "  from .autonotebook import tqdm as notebook_tqdm\n"
     ]
    },
    {
     "name": "stdout",
     "output_type": "stream",
     "text": [
      "2023-03-07 11:53:59,629 - Created a temporary directory at /tmp/tmpk0a1_hoe\n",
      "2023-03-07 11:53:59,630 - Writing /tmp/tmpk0a1_hoe/_remote_module_non_scriptable.py\n"
     ]
    },
    {
     "ename": "ImportError",
     "evalue": "cannot import name 'evaluate_synthetic' from 'goggle.GoggleModel' (/home/rob/Documents/projects/GOGGLE/src/goggle/GoggleModel.py)",
     "output_type": "error",
     "traceback": [
      "\u001b[0;31m---------------------------------------------------------------------------\u001b[0m",
      "\u001b[0;31mImportError\u001b[0m                               Traceback (most recent call last)",
      "Cell \u001b[0;32mIn[1], line 9\u001b[0m\n\u001b[1;32m      6\u001b[0m \u001b[39mimport\u001b[39;00m \u001b[39mnumpy\u001b[39;00m \u001b[39mas\u001b[39;00m \u001b[39mnp\u001b[39;00m\n\u001b[1;32m      8\u001b[0m \u001b[39m# GOGGLE\u001b[39;00m\n\u001b[0;32m----> 9\u001b[0m \u001b[39mfrom\u001b[39;00m \u001b[39mgoggle\u001b[39;00m\u001b[39m.\u001b[39;00m\u001b[39mGoggleModel\u001b[39;00m \u001b[39mimport\u001b[39;00m evaluate_synthetic\n\u001b[1;32m     11\u001b[0m \u001b[39mfrom\u001b[39;00m \u001b[39msynthcity\u001b[39;00m\u001b[39m.\u001b[39;00m\u001b[39mplugins\u001b[39;00m\u001b[39m.\u001b[39;00m\u001b[39mcore\u001b[39;00m\u001b[39m.\u001b[39;00m\u001b[39mdataloader\u001b[39;00m \u001b[39mimport\u001b[39;00m GenericDataLoader\n\u001b[1;32m     12\u001b[0m \u001b[39mfrom\u001b[39;00m \u001b[39msynthcity\u001b[39;00m\u001b[39m.\u001b[39;00m\u001b[39mplugins\u001b[39;00m \u001b[39mimport\u001b[39;00m Plugins\n",
      "\u001b[0;31mImportError\u001b[0m: cannot import name 'evaluate_synthetic' from 'goggle.GoggleModel' (/home/rob/Documents/projects/GOGGLE/src/goggle/GoggleModel.py)"
     ]
    }
   ],
   "source": [
    "import sys\n",
    "sys.path.append('../.')\n",
    "sys.path.append('../../.')\n",
    "import pandas as pd\n",
    "import matplotlib.pyplot as plt\n",
    "import numpy as np\n",
    "\n",
    "# GOGGLE\n",
    "from goggle import GoggleModel\n",
    "\n",
    "from synthcity.plugins.core.dataloader import GenericDataLoader\n",
    "from synthcity.plugins import Plugins\n"
   ]
  },
  {
   "cell_type": "markdown",
   "id": "6f05ebe6",
   "metadata": {},
   "source": [
    "**Load data**"
   ]
  },
  {
   "cell_type": "code",
   "execution_count": null,
   "id": "d2a80737",
   "metadata": {},
   "outputs": [],
   "source": [
    "from sklearn.datasets import load_breast_cancer\n",
    "from sklearn.preprocessing import StandardScaler\n",
    "from sklearn.compose import ColumnTransformer\n",
    "\n",
    "dataset = 'breast'\n",
    "X = pd.read_csv('../data/breast_cancer_2.csv')\n",
    "\n",
    "ind = list(range(len(X.columns)))\n",
    "ind = [x for x in ind if x != X.columns.get_loc(\"target\")]\n",
    "col_list = X.columns[ind]\n",
    "ct = ColumnTransformer([('scaler', StandardScaler(), col_list)], remainder='passthrough')\n",
    "\n",
    "X_ = ct.fit_transform(X)\n",
    "X = pd.DataFrame(X_, index=X.index, columns=X.columns)\n",
    "\n",
    "X.head()"
   ]
  },
  {
   "cell_type": "markdown",
   "id": "02b30a57",
   "metadata": {},
   "source": [
    "**Fit model**"
   ]
  },
  {
   "cell_type": "code",
   "execution_count": null,
   "id": "e80ff52e",
   "metadata": {},
   "outputs": [],
   "source": [
    "from sklearn.model_selection import train_test_split"
   ]
  },
  {
   "cell_type": "code",
   "execution_count": null,
   "id": "3b543a81",
   "metadata": {
    "scrolled": false
   },
   "outputs": [],
   "source": [
    "X_train, X_test = train_test_split(X, random_state=0, test_size=0.2, shuffle=True)\n",
    "gens = Plugins()\n",
    "print(gens.list())\n",
    "gen = gens.get(\"tvae\")"
   ]
  },
  {
   "cell_type": "code",
   "execution_count": null,
   "id": "d5851241",
   "metadata": {
    "scrolled": true
   },
   "outputs": [],
   "source": [
    "gen.fit(X_train)"
   ]
  },
  {
   "cell_type": "markdown",
   "id": "26548a09",
   "metadata": {},
   "source": [
    "**Evaluate synthetic data**"
   ]
  },
  {
   "cell_type": "code",
   "execution_count": null,
   "id": "d5051356",
   "metadata": {
    "scrolled": true
   },
   "outputs": [],
   "source": [
    "X_synth = gen.generate(count=X_test.shape[0]).dataframe()\n",
    "X_synth.head()"
   ]
  },
  {
   "cell_type": "code",
   "execution_count": null,
   "id": "f1d1e0bd",
   "metadata": {},
   "outputs": [],
   "source": [
    "X_synth_loader = GenericDataLoader(\n",
    "    X_synth,\n",
    "    target_column=\"target\",\n",
    ")\n",
    "X_test_loader = GenericDataLoader(\n",
    "    X_test,\n",
    "    target_column=\"target\",\n",
    ")\n",
    "\n",
    "res = GoggleModel.evaluate_synthetic(X_synth_loader, X_test_loader)\n",
    "print(f'Quality: {res[0]:.3f}')\n",
    "print(f'Detection: {res[2]:.3f}')\n",
    "print(f'Performance on real: {res[1][0]:.3f}, on synth: {res[1][1]:.3f}')\n",
    "print(f'diff: {res[1][0] - res[1][1]:.3f}')"
   ]
  },
  {
   "cell_type": "markdown",
   "id": "3328d07b",
   "metadata": {},
   "source": [
    "**Generate TSNE plots**"
   ]
  },
  {
   "cell_type": "code",
   "execution_count": null,
   "id": "75b4fa9c",
   "metadata": {},
   "outputs": [],
   "source": [
    "X_test['label'] = 'Original'\n",
    "X_synth['label'] = 'Synthetic'\n",
    "\n",
    "concat_df = pd.concat([X_test, X_synth], axis=0)\n",
    "y_data = concat_df['label']\n",
    "x_data = concat_df.drop(['label', 'target'], axis=1)"
   ]
  },
  {
   "cell_type": "code",
   "execution_count": null,
   "id": "587eeaa7",
   "metadata": {},
   "outputs": [],
   "source": [
    "from sklearn.manifold import TSNE\n",
    "import seaborn as sns\n",
    "\n",
    "tsne = TSNE(n_components=2, verbose=0, random_state=0)\n",
    "z = tsne.fit_transform(x_data)\n",
    "df = pd.DataFrame()\n",
    "df[\"y\"] = y_data\n",
    "df[\"comp-1\"] = z[:,0]\n",
    "df[\"comp-2\"] = z[:,1]"
   ]
  },
  {
   "cell_type": "code",
   "execution_count": null,
   "id": "8f2acfc2",
   "metadata": {},
   "outputs": [],
   "source": [
    "plt.figure(figsize=(4, 4))\n",
    "sns.scatterplot(x=\"comp-1\", y=\"comp-2\", hue=df.y.tolist(),\n",
    "                palette=sns.color_palette(\"hls\", 2), alpha=0.5,\n",
    "                data=df).set(title=f\"T-SNE Projection\")\n",
    "plt.xlabel('comp-1')\n",
    "plt.ylabel('comp-2')\n",
    "plt.legend()\n",
    "\n",
    "plt.show()"
   ]
  },
  {
   "cell_type": "markdown",
   "id": "87eac39a",
   "metadata": {},
   "source": [
    "**Visualise adjacency matrix**"
   ]
  },
  {
   "cell_type": "code",
   "execution_count": null,
   "id": "12145d90",
   "metadata": {},
   "outputs": [],
   "source": [
    "adj_matrix = gen.model.learned_graph(100).cpu().detach().numpy()\n",
    "plt.figure(figsize=(4, 4))\n",
    "im = plt.imshow(adj_matrix, cmap='inferno', interpolation='nearest', vmin=0, vmax=1.0)\n",
    "plt.colorbar(im, fraction=0.046, pad=0.04)\n",
    "plt.title('Learned graph')\n",
    "plt.axis('off')\n",
    "plt.show()"
   ]
  }
 ],
 "metadata": {
  "kernelspec": {
   "display_name": "goggle3",
   "language": "python",
   "name": "python3"
  },
  "language_info": {
   "codemirror_mode": {
    "name": "ipython",
    "version": 3
   },
   "file_extension": ".py",
   "mimetype": "text/x-python",
   "name": "python",
   "nbconvert_exporter": "python",
   "pygments_lexer": "ipython3",
   "version": "3.9.16"
  },
  "vscode": {
   "interpreter": {
    "hash": "caaa7a57d4482b237d516809dd1cd7d919985bd48a5bd9057cb09257823ba4b2"
   }
  }
 },
 "nbformat": 4,
 "nbformat_minor": 5
}
